{
 "cells": [
  {
   "cell_type": "code",
   "execution_count": 27,
   "id": "9947cf74",
   "metadata": {},
   "outputs": [],
   "source": [
    "import pandas as pd\n",
    "import numpy as np\n",
    "from matplotlib import pyplot as plt\n",
    "import seaborn as sns \n",
    "from sklearn.linear_model import LinearRegression\n",
    "from sklearn.model_selection import train_test_split\n",
    "from sklearn.metrics import mean_squared_error"
   ]
  },
  {
   "cell_type": "code",
   "execution_count": 28,
   "id": "abd18ffb",
   "metadata": {},
   "outputs": [],
   "source": [
    "df=pd.read_csv(\"National_Stock_Exchange_of_India_Ltd (1).csv\")"
   ]
  },
  {
   "cell_type": "code",
   "execution_count": 29,
   "id": "53bb9651",
   "metadata": {},
   "outputs": [
    {
     "data": {
      "text/html": [
       "<div>\n",
       "<style scoped>\n",
       "    .dataframe tbody tr th:only-of-type {\n",
       "        vertical-align: middle;\n",
       "    }\n",
       "\n",
       "    .dataframe tbody tr th {\n",
       "        vertical-align: top;\n",
       "    }\n",
       "\n",
       "    .dataframe thead th {\n",
       "        text-align: right;\n",
       "    }\n",
       "</style>\n",
       "<table border=\"1\" class=\"dataframe\">\n",
       "  <thead>\n",
       "    <tr style=\"text-align: right;\">\n",
       "      <th></th>\n",
       "      <th>Symbol</th>\n",
       "      <th>Open</th>\n",
       "      <th>High</th>\n",
       "      <th>Low</th>\n",
       "      <th>LTP</th>\n",
       "      <th>Chng</th>\n",
       "      <th>% Chng</th>\n",
       "      <th>Volume (lacs)</th>\n",
       "      <th>Turnover (crs.)</th>\n",
       "      <th>52w H</th>\n",
       "      <th>52w L</th>\n",
       "      <th>365 d % chng</th>\n",
       "      <th>30 d % chng</th>\n",
       "    </tr>\n",
       "  </thead>\n",
       "  <tbody>\n",
       "    <tr>\n",
       "      <th>0</th>\n",
       "      <td>ADANIPORTS</td>\n",
       "      <td>750</td>\n",
       "      <td>766</td>\n",
       "      <td>713.25</td>\n",
       "      <td>715</td>\n",
       "      <td>-47.45</td>\n",
       "      <td>-6.22</td>\n",
       "      <td>72.20</td>\n",
       "      <td>532.63</td>\n",
       "      <td>901</td>\n",
       "      <td>384.4</td>\n",
       "      <td>79.22</td>\n",
       "      <td>-4.65</td>\n",
       "    </tr>\n",
       "    <tr>\n",
       "      <th>1</th>\n",
       "      <td>ASIANPAINT</td>\n",
       "      <td>3,101.00</td>\n",
       "      <td>3,167.35</td>\n",
       "      <td>3,091.00</td>\n",
       "      <td>3,138.00</td>\n",
       "      <td>-6.25</td>\n",
       "      <td>-0.20</td>\n",
       "      <td>10.29</td>\n",
       "      <td>322.53</td>\n",
       "      <td>3,505.00</td>\n",
       "      <td>2,117.15</td>\n",
       "      <td>45.66</td>\n",
       "      <td>5.66</td>\n",
       "    </tr>\n",
       "    <tr>\n",
       "      <th>2</th>\n",
       "      <td>AXISBANK</td>\n",
       "      <td>669</td>\n",
       "      <td>674.9</td>\n",
       "      <td>660.45</td>\n",
       "      <td>661</td>\n",
       "      <td>-18.90</td>\n",
       "      <td>-2.78</td>\n",
       "      <td>102.53</td>\n",
       "      <td>684</td>\n",
       "      <td>866.9</td>\n",
       "      <td>568.4</td>\n",
       "      <td>10.19</td>\n",
       "      <td>-21.49</td>\n",
       "    </tr>\n",
       "    <tr>\n",
       "      <th>3</th>\n",
       "      <td>BAJAJ-AUTO</td>\n",
       "      <td>3,370.00</td>\n",
       "      <td>3,383.50</td>\n",
       "      <td>3,320.00</td>\n",
       "      <td>3,335.00</td>\n",
       "      <td>-56.70</td>\n",
       "      <td>-1.67</td>\n",
       "      <td>3.42</td>\n",
       "      <td>114.59</td>\n",
       "      <td>4,361.40</td>\n",
       "      <td>3,041.00</td>\n",
       "      <td>9.30</td>\n",
       "      <td>-12.05</td>\n",
       "    </tr>\n",
       "    <tr>\n",
       "      <th>4</th>\n",
       "      <td>BAJAJFINSV</td>\n",
       "      <td>17,200.00</td>\n",
       "      <td>17,237.20</td>\n",
       "      <td>16,610.00</td>\n",
       "      <td>16,684.00</td>\n",
       "      <td>-684.85</td>\n",
       "      <td>-3.94</td>\n",
       "      <td>3.42</td>\n",
       "      <td>576.79</td>\n",
       "      <td>19,325.00</td>\n",
       "      <td>8,273.70</td>\n",
       "      <td>91.38</td>\n",
       "      <td>-9.10</td>\n",
       "    </tr>\n",
       "  </tbody>\n",
       "</table>\n",
       "</div>"
      ],
      "text/plain": [
       "       Symbol       Open       High        Low        LTP    Chng  % Chng  \\\n",
       "0  ADANIPORTS        750        766     713.25        715  -47.45   -6.22   \n",
       "1  ASIANPAINT   3,101.00   3,167.35   3,091.00   3,138.00   -6.25   -0.20   \n",
       "2    AXISBANK        669      674.9     660.45        661  -18.90   -2.78   \n",
       "3  BAJAJ-AUTO   3,370.00   3,383.50   3,320.00   3,335.00  -56.70   -1.67   \n",
       "4  BAJAJFINSV  17,200.00  17,237.20  16,610.00  16,684.00 -684.85   -3.94   \n",
       "\n",
       "   Volume (lacs) Turnover (crs.)      52w H     52w L  365 d % chng  \\\n",
       "0          72.20          532.63        901     384.4         79.22   \n",
       "1          10.29          322.53   3,505.00  2,117.15         45.66   \n",
       "2         102.53             684      866.9     568.4         10.19   \n",
       "3           3.42          114.59   4,361.40  3,041.00          9.30   \n",
       "4           3.42          576.79  19,325.00  8,273.70         91.38   \n",
       "\n",
       "   30 d % chng  \n",
       "0        -4.65  \n",
       "1         5.66  \n",
       "2       -21.49  \n",
       "3       -12.05  \n",
       "4        -9.10  "
      ]
     },
     "execution_count": 29,
     "metadata": {},
     "output_type": "execute_result"
    }
   ],
   "source": [
    "df.head()\n"
   ]
  },
  {
   "cell_type": "code",
   "execution_count": 30,
   "id": "aa5f8345",
   "metadata": {},
   "outputs": [
    {
     "data": {
      "text/plain": [
       "Symbol              object\n",
       "Open                object\n",
       "High                object\n",
       "Low                 object\n",
       "LTP                 object\n",
       "Chng               float64\n",
       "% Chng             float64\n",
       "Volume (lacs)      float64\n",
       "Turnover (crs.)     object\n",
       "52w H               object\n",
       "52w L               object\n",
       "365 d % chng       float64\n",
       "30 d % chng        float64\n",
       "dtype: object"
      ]
     },
     "execution_count": 30,
     "metadata": {},
     "output_type": "execute_result"
    }
   ],
   "source": [
    "df.dtypes"
   ]
  },
  {
   "cell_type": "code",
   "execution_count": 31,
   "id": "2c0c0393",
   "metadata": {},
   "outputs": [
    {
     "data": {
      "text/plain": [
       "(50, 13)"
      ]
     },
     "execution_count": 31,
     "metadata": {},
     "output_type": "execute_result"
    }
   ],
   "source": [
    "df.shape"
   ]
  },
  {
   "cell_type": "code",
   "execution_count": 32,
   "id": "a498f8ca",
   "metadata": {},
   "outputs": [
    {
     "data": {
      "text/plain": [
       "Symbol             0\n",
       "Open               0\n",
       "High               0\n",
       "Low                0\n",
       "LTP                0\n",
       "Chng               0\n",
       "% Chng             0\n",
       "Volume (lacs)      0\n",
       "Turnover (crs.)    0\n",
       "52w H              0\n",
       "52w L              0\n",
       "365 d % chng       0\n",
       "30 d % chng        0\n",
       "dtype: int64"
      ]
     },
     "execution_count": 32,
     "metadata": {},
     "output_type": "execute_result"
    }
   ],
   "source": [
    "df.isnull().sum()"
   ]
  },
  {
   "cell_type": "code",
   "execution_count": 33,
   "id": "412a57ec",
   "metadata": {},
   "outputs": [
    {
     "data": {
      "text/plain": [
       "0     False\n",
       "1     False\n",
       "2     False\n",
       "3     False\n",
       "4     False\n",
       "5     False\n",
       "6     False\n",
       "7     False\n",
       "8     False\n",
       "9     False\n",
       "10    False\n",
       "11    False\n",
       "12    False\n",
       "13    False\n",
       "14    False\n",
       "15    False\n",
       "16    False\n",
       "17    False\n",
       "18    False\n",
       "19    False\n",
       "20    False\n",
       "21    False\n",
       "22    False\n",
       "23    False\n",
       "24    False\n",
       "25    False\n",
       "26    False\n",
       "27    False\n",
       "28    False\n",
       "29    False\n",
       "30    False\n",
       "31    False\n",
       "32    False\n",
       "33    False\n",
       "34    False\n",
       "35    False\n",
       "36    False\n",
       "37    False\n",
       "38    False\n",
       "39    False\n",
       "40    False\n",
       "41    False\n",
       "42    False\n",
       "43    False\n",
       "44    False\n",
       "45    False\n",
       "46    False\n",
       "47    False\n",
       "48    False\n",
       "49    False\n",
       "dtype: bool"
      ]
     },
     "execution_count": 33,
     "metadata": {},
     "output_type": "execute_result"
    }
   ],
   "source": [
    "df.duplicated()"
   ]
  },
  {
   "cell_type": "code",
   "execution_count": 39,
   "id": "37cdcf2a",
   "metadata": {},
   "outputs": [
    {
     "data": {
      "image/png": "[encoded data removed]",
      "text/plain": [
       "<Figure size 640x480 with 1 Axes>"
      ]
     },
     "metadata": {},
     "output_type": "display_data"
    }
   ],
   "source": [
    "plt.scatter(df[\"% Chng\"],df[\"Chng\"],color=\"r\")\n",
    "plt.plot(df[\"% Chng\"],df[\"Chng\"],color=\"b\")\n",
    "plt.show()"
   ]
  },
  {
   "cell_type": "code",
   "execution_count": 43,
   "id": "0a7263f8",
   "metadata": {},
   "outputs": [],
   "source": [
    "x=np.array(df[\"% Chng\"]).reshape(-1,1)\n",
    "y=np.array(df[\"Chng\"]).reshape(-1,1)"
   ]
  },
  {
   "cell_type": "code",
   "execution_count": 44,
   "id": "5718c97b",
   "metadata": {},
   "outputs": [],
   "source": [
    "x_train,x_test,y_train,y_test=train_test_split(x,y,test_size=0.25)"
   ]
  },
  {
   "cell_type": "code",
   "execution_count": 45,
   "id": "90bc5326",
   "metadata": {},
   "outputs": [
    {
     "data": {
      "text/plain": [
       "0.021822178049232588"
      ]
     },
     "execution_count": 45,
     "metadata": {},
     "output_type": "execute_result"
    }
   ],
   "source": [
    "reg=LinearRegression()\n",
    "reg=reg.fit(x_train,y_train)\n",
    "reg.score(x_test,y_test)\n"
   ]
  },
  {
   "cell_type": "code",
   "execution_count": 48,
   "id": "cb819377",
   "metadata": {},
   "outputs": [
    {
     "data": {
      "image/png": "[encoded data removed]",
      "text/plain": [
       "<Figure size 640x480 with 1 Axes>"
      ]
     },
     "metadata": {},
     "output_type": "display_data"
    }
   ],
   "source": [
    "reg=LinearRegression()\n",
    "reg=reg.fit(x_test,y_test)\n",
    "y_pred=reg.predict(x_test)\n",
    "plt.scatter(x_test,y_test)\n",
    "plt.plot(x_test,y_pred)\n",
    "plt.show()"
   ]
  },
  {
   "cell_type": "code",
   "execution_count": null,
   "id": "e8cc0bd4",
   "metadata": {},
   "outputs": [],
   "source": []
  }
 ],
 "metadata": {
  "kernelspec": {
   "display_name": "Python 3 (ipykernel)",
   "language": "python",
   "name": "python3"
  },
  "language_info": {
   "codemirror_mode": {
    "name": "ipython",
    "version": 3
   },
   "file_extension": ".py",
   "mimetype": "text/x-python",
   "name": "python",
   "nbconvert_exporter": "python",
   "pygments_lexer": "ipython3",
   "version": "3.9.13"
  }
 },
 "nbformat": 4,
 "nbformat_minor": 5
}
